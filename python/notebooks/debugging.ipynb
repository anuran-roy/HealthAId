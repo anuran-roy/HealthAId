{
 "cells": [
  {
   "cell_type": "code",
   "execution_count": 1,
   "metadata": {},
   "outputs": [
    {
     "name": "stdout",
     "output_type": "stream",
     "text": [
      "Setup complete\n"
     ]
    }
   ],
   "source": [
    "import emlx\n",
    "import pandas\n",
    "import email\n",
    "\n",
    "print(\"Setup complete\")"
   ]
  },
  {
   "cell_type": "code",
   "execution_count": 2,
   "metadata": {},
   "outputs": [
    {
     "ename": "ValueError",
     "evalue": "invalid literal for int() with base 10: b'Received: from CY1PR0601MB1257.namprd06.prod.outlook.com (10.161.214.150) by'",
     "output_type": "error",
     "traceback": [
      "\u001b[0;31m---------------------------------------------------------------------------\u001b[0m",
      "\u001b[0;31mValueError\u001b[0m                                Traceback (most recent call last)",
      "\u001b[1;32m/media/anuran/Samsung_SSD_970_EVO_1TB/Hackathons/Bajaj HackRx Prep/python/notebooks/debugging.ipynb Cell 2\u001b[0m in \u001b[0;36m<cell line: 1>\u001b[0;34m()\u001b[0m\n\u001b[0;32m----> <a href='vscode-notebook-cell:/media/anuran/Samsung_SSD_970_EVO_1TB/Hackathons/Bajaj%20HackRx%20Prep/python/notebooks/debugging.ipynb#W1sZmlsZQ%3D%3D?line=0'>1</a>\u001b[0m email \u001b[39m=\u001b[39m emlx\u001b[39m.\u001b[39;49mread(\u001b[39m\"\u001b[39;49m\u001b[39m/media/anuran/Samsung_SSD_970_EVO_1TB/Datasets/Hunter Biden emails/Native Format/2016/20160121-122055_Mail Attachment.emlx\u001b[39;49m\u001b[39m\"\u001b[39;49m)\n",
      "File \u001b[0;32m~/.local/lib/python3.10/site-packages/emlx/emlx.py:123\u001b[0m, in \u001b[0;36mread\u001b[0;34m(filepath_or_buffer, plist_only, **kwargs)\u001b[0m\n\u001b[1;32m    121\u001b[0m \u001b[39mtry\u001b[39;00m:\n\u001b[1;32m    122\u001b[0m     kwargs[\u001b[39m\"\u001b[39m\u001b[39mplist_only\u001b[39m\u001b[39m\"\u001b[39m] \u001b[39m=\u001b[39m plist_only\n\u001b[0;32m--> 123\u001b[0m     result \u001b[39m=\u001b[39m Emlx\u001b[39m.\u001b[39;49mfrom_filebuffer(filebuffer, \u001b[39m*\u001b[39;49m\u001b[39m*\u001b[39;49mkwargs)\n\u001b[1;32m    124\u001b[0m \u001b[39mfinally\u001b[39;00m:\n\u001b[1;32m    125\u001b[0m     filebuffer\u001b[39m.\u001b[39mclose()\n",
      "File \u001b[0;32m~/.local/lib/python3.10/site-packages/emlx/emlx.py:76\u001b[0m, in \u001b[0;36mEmlx.from_filebuffer\u001b[0;34m(cls, filebuffer, **kwargs)\u001b[0m\n\u001b[1;32m     72\u001b[0m \u001b[39m@classmethod\u001b[39m\n\u001b[1;32m     73\u001b[0m \u001b[39mdef\u001b[39;00m \u001b[39mfrom_filebuffer\u001b[39m(\u001b[39mcls\u001b[39m, filebuffer, \u001b[39m*\u001b[39m\u001b[39m*\u001b[39mkwargs):\n\u001b[1;32m     74\u001b[0m \u001b[39m    \u001b[39m\u001b[39m\"\"\"Return an emlx object from an emlx filebuffer.\"\"\"\u001b[39;00m\n\u001b[0;32m---> 76\u001b[0m     bytecount \u001b[39m=\u001b[39m \u001b[39mint\u001b[39;49m(filebuffer\u001b[39m.\u001b[39;49mreadline()\u001b[39m.\u001b[39;49mstrip())\n\u001b[1;32m     78\u001b[0m     \u001b[39mif\u001b[39;00m kwargs\u001b[39m.\u001b[39mget(\u001b[39m\"\u001b[39m\u001b[39mplist_only\u001b[39m\u001b[39m\"\u001b[39m):\n\u001b[1;32m     79\u001b[0m         \u001b[39mself\u001b[39m \u001b[39m=\u001b[39m Emlx()\n",
      "\u001b[0;31mValueError\u001b[0m: invalid literal for int() with base 10: b'Received: from CY1PR0601MB1257.namprd06.prod.outlook.com (10.161.214.150) by'"
     ]
    }
   ],
   "source": [
    "email = emlx(\"/media/anuran/Samsung_SSD_970_EVO_1TB/Datasets/Hunter Biden emails/Native Format/2016/20160121-122055_Mail Attachment.emlx\")"
   ]
  },
  {
   "cell_type": "code",
   "execution_count": null,
   "metadata": {},
   "outputs": [],
   "source": []
  }
 ],
 "metadata": {
  "kernelspec": {
   "display_name": "Python 3",
   "language": "python",
   "name": "python3"
  },
  "language_info": {
   "codemirror_mode": {
    "name": "ipython",
    "version": 3
   },
   "file_extension": ".py",
   "mimetype": "text/x-python",
   "name": "python",
   "nbconvert_exporter": "python",
   "pygments_lexer": "ipython3",
   "version": "3.10.6"
  },
  "orig_nbformat": 4
 },
 "nbformat": 4,
 "nbformat_minor": 2
}
