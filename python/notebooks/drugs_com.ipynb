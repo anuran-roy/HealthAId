{
 "cells": [
  {
   "attachments": {},
   "cell_type": "markdown",
   "metadata": {},
   "source": [
    "## Drugs.com scraper"
   ]
  },
  {
   "cell_type": "code",
   "execution_count": 13,
   "metadata": {},
   "outputs": [
    {
     "name": "stdout",
     "output_type": "stream",
     "text": [
      "Setup complete\n"
     ]
    }
   ],
   "source": [
    "import requests\n",
    "from bs4 import BeautifulSoup, ResultSet, Tag\n",
    "from typing import Any\n",
    "\n",
    "print(\"Setup complete\")"
   ]
  },
  {
   "cell_type": "code",
   "execution_count": 7,
   "metadata": {},
   "outputs": [],
   "source": [
    "content = requests.get(\"https://www.drugs.com/ibuprofen.html\").content\n",
    "soup = BeautifulSoup(content)"
   ]
  },
  {
   "cell_type": "code",
   "execution_count": 1,
   "metadata": {},
   "outputs": [],
   "source": [
    "# print(soup.prettify())"
   ]
  },
  {
   "cell_type": "code",
   "execution_count": 9,
   "metadata": {},
   "outputs": [],
   "source": [
    "cnt = requests.get(\"https://www.drugs.com/search.php?searchterm=ibuprofen\").content\n",
    "search_soup = BeautifulSoup(cnt)"
   ]
  },
  {
   "cell_type": "code",
   "execution_count": 10,
   "metadata": {},
   "outputs": [],
   "source": [
    "soup_components: ResultSet[Any] = search_soup.find_all(\"a\", {\"class\": \"ddc-search-result-link-wrap\"})"
   ]
  },
  {
   "cell_type": "code",
   "execution_count": 12,
   "metadata": {},
   "outputs": [
    {
     "data": {
      "text/plain": [
       "bs4.element.Tag"
      ]
     },
     "execution_count": 12,
     "metadata": {},
     "output_type": "execute_result"
    }
   ],
   "source": [
    "type(soup_components[0])"
   ]
  },
  {
   "cell_type": "code",
   "execution_count": 15,
   "metadata": {},
   "outputs": [
    {
     "name": "stdout",
     "output_type": "stream",
     "text": [
      "Ibuprofen \n",
      "Ibuprofen Prescribing Information\n",
      "Ibuprofen Chewable Tablets Information Consumer Information\n",
      "Ibuprofen and Acetaminophen Information Consumer Information\n",
      "Ibuprofen Suspension: Indications, Side Effects, Warnings Consumer Information\n",
      "Ibuprofen Tablets: Indications, Side Effects, Warnings Consumer Information\n",
      "Ibuprofen Capsules: Indications, Side Effects, Warnings Consumer Information\n",
      "Ibuprofen, Pseudoephedrine, and Chlorpheniramine Consumer Information\n",
      "Ibuprofen, Phenylephrine, and Chlorpheniramine Consumer Information\n",
      "GoodSense Ibuprofen PM: Indications, Side Effects, Warnings Consumer Information\n",
      "Ibuprofen Injection (PDA): Indications, Side Effects, Warnings Consumer Information\n"
     ]
    },
    {
     "data": {
      "text/plain": [
       "[('Ibuprofen ', 'https://www.drugs.com/ibuprofen.html'),\n",
       " ('Ibuprofen Prescribing Information',\n",
       "  'https://www.drugs.com/pro/ibuprofen.html'),\n",
       " ('Ibuprofen Chewable Tablets Information Consumer Information',\n",
       "  'https://www.drugs.com/cdi/ibuprofen-chewable-tablets.html'),\n",
       " ('Ibuprofen and Acetaminophen Information Consumer Information',\n",
       "  'https://www.drugs.com/cdi/ibuprofen-and-acetaminophen.html'),\n",
       " ('Ibuprofen Suspension: Indications, Side Effects, Warnings Consumer Information',\n",
       "  'https://www.drugs.com/cdi/ibuprofen-suspension.html'),\n",
       " ('Ibuprofen Tablets: Indications, Side Effects, Warnings Consumer Information',\n",
       "  'https://www.drugs.com/cdi/ibuprofen-tablets.html'),\n",
       " ('Ibuprofen Capsules: Indications, Side Effects, Warnings Consumer Information',\n",
       "  'https://www.drugs.com/cdi/ibuprofen-capsules.html'),\n",
       " ('Ibuprofen, Pseudoephedrine, and Chlorpheniramine Consumer Information',\n",
       "  'https://www.drugs.com/cdi/ibuprofen-pseudoephedrine-and-chlorpheniramine.html'),\n",
       " ('Ibuprofen, Phenylephrine, and Chlorpheniramine Consumer Information',\n",
       "  'https://www.drugs.com/cdi/ibuprofen-phenylephrine-and-chlorpheniramine.html'),\n",
       " ('GoodSense Ibuprofen PM: Indications, Side Effects, Warnings Consumer Information',\n",
       "  'https://www.drugs.com/cdi/goodsense-ibuprofen-pm.html'),\n",
       " ('Ibuprofen Injection (PDA): Indications, Side Effects, Warnings Consumer Information',\n",
       "  'https://www.drugs.com/cdi/ibuprofen-injection-pda.html')]"
      ]
     },
     "execution_count": 15,
     "metadata": {},
     "output_type": "execute_result"
    }
   ],
   "source": [
    "def get_soup_items_from_search(search_query: str):\n",
    "    soup = BeautifulSoup(requests.get(\"https://www.drugs.com/search.php?searchterm=ibuprofen\").content)\n",
    "    soup_items = []\n",
    "    soup_components = soup.find_all(\"a\", {\"class\": \"ddc-search-result-link-wrap\"})\n",
    "    for soup in soup_components:\n",
    "        title = soup.find(\"h3\", {\"class\": \"ddc-media-title\"})\n",
    "        soup_items.append((title.get_text(), soup.attrs.get(\"href\")))\n",
    "        print(title.get_text())\n",
    "\n",
    "    return soup_items"
   ]
  },
  {
   "cell_type": "code",
   "execution_count": 6,
   "metadata": {},
   "outputs": [
    {
     "name": "stdout",
     "output_type": "stream",
     "text": [
      "Diclofenac \n",
      "Diclofenac Prescribing Information\n",
      "Diclofenac ophthalmic Consumer Information (Cerner Multum)\n",
      "Diclofenac Ophthalmic Solution Prescribing Information\n",
      "Diclofenac topical Consumer Information (Cerner Multum)\n",
      "Diclofenac Gel Prescribing Information\n",
      "Diclofenac Topical Solution Information Consumer Information\n",
      "Diclofenac Injection: Indications, Side Effects, Warnings Consumer Information\n",
      "Diclofenac Cream: Indications, Side Effects, Warnings Consumer Information\n",
      "Diclofenac Capsules: Indications, Side Effects, Warnings Consumer Information\n",
      "Diclofenac Extended-Release Tablets Information Consumer Information\n",
      "Diclofenac Immediate-Release Tablets Information Consumer Information\n",
      "Diclofenac Delayed-Release Tablets Information Consumer Information\n",
      "Diclofenac Powder Packets: Indications, Side Effects, Warnings Consumer Information\n",
      "Diclofenac Gel (3%): Indications, Side Effects, Warnings Consumer Information\n",
      "[('Diclofenac ', 'https://www.drugs.com/diclofenac.html'), ('Diclofenac Prescribing Information', 'https://www.drugs.com/pro/diclofenac.html'), ('Diclofenac ophthalmic Consumer Information (Cerner Multum)', 'https://www.drugs.com/mtm/diclofenac-ophthalmic.html'), ('Diclofenac Ophthalmic Solution Prescribing Information', 'https://www.drugs.com/pro/diclofenac-ophthalmic-solution.html'), ('Diclofenac topical Consumer Information (Cerner Multum)', 'https://www.drugs.com/mtm/diclofenac-topical.html'), ('Diclofenac Gel Prescribing Information', 'https://www.drugs.com/pro/diclofenac-gel.html'), ('Diclofenac Topical Solution Information Consumer Information', 'https://www.drugs.com/cdi/diclofenac-topical-solution.html'), ('Diclofenac Injection: Indications, Side Effects, Warnings Consumer Information', 'https://www.drugs.com/cdi/diclofenac-injection.html'), ('Diclofenac Cream: Indications, Side Effects, Warnings Consumer Information', 'https://www.drugs.com/cdi/diclofenac-cream.html'), ('Diclofenac Capsules: Indications, Side Effects, Warnings Consumer Information', 'https://www.drugs.com/cdi/diclofenac-capsules.html'), ('Diclofenac Extended-Release Tablets Information Consumer Information', 'https://www.drugs.com/cdi/diclofenac-extended-release-tablets.html'), ('Diclofenac Immediate-Release Tablets Information Consumer Information', 'https://www.drugs.com/cdi/diclofenac-immediate-release-tablets.html'), ('Diclofenac Delayed-Release Tablets Information Consumer Information', 'https://www.drugs.com/cdi/diclofenac-delayed-release-tablets.html'), ('Diclofenac Powder Packets: Indications, Side Effects, Warnings Consumer Information', 'https://www.drugs.com/cdi/diclofenac-powder-packets.html'), ('Diclofenac Gel (3%): Indications, Side Effects, Warnings Consumer Information', 'https://www.drugs.com/cdi/diclofenac-gel-3.html')]\n"
     ]
    },
    {
     "data": {
      "text/plain": [
       "dict_keys(['Uses', 'Warnings', 'Before taking', 'Directions', 'Dosage', 'Overdose', 'What to avoid', 'Side effects', 'Interactions', 'Faq'])"
      ]
     },
     "execution_count": 6,
     "metadata": {},
     "output_type": "execute_result"
    }
   ],
   "source": [
    "import requests\n",
    "from bs4 import BeautifulSoup, Tag\n",
    "\n",
    "def get_soup_items_from_search(search_query: str):\n",
    "    soup = BeautifulSoup(requests.get(f\"https://www.drugs.com/search.php?searchterm={search_query}\").content)\n",
    "    soup_items = []\n",
    "    soup_components = soup.find_all(\"a\", {\"class\": \"ddc-search-result-link-wrap\"})\n",
    "    for soup in soup_components:\n",
    "        title = soup.find(\"h3\", {\"class\": \"ddc-media-title\"})\n",
    "        soup_items.append((title.get_text(), soup.attrs.get(\"href\")))\n",
    "        print(title.get_text())\n",
    "\n",
    "    return soup_items\n",
    "\n",
    "def contents_till_next_section(section: Tag) -> list[str]:\n",
    "    limit_reached = False\n",
    "    sections_content = []\n",
    "    next_section = section\n",
    "    while not limit_reached:\n",
    "        next_section = next_section.find_next_sibling()\n",
    "        if next_section is None or next_section.name == \"h2\":\n",
    "            limit_reached = True\n",
    "        else:\n",
    "            sections_content.append(next_section.get_text(separator=\"\\n\\n\", strip=True))\n",
    "\n",
    "    section_name = section.attrs.get(\"id\")\n",
    "    section_name = section_name.capitalize().replace(\"-\", \" \") if section_name is not None else None\n",
    "    if section_name is None:\n",
    "        section_name = section.contents[0] if len(section.contents) > 0 else \"\"\n",
    "    sections_data = \"\\n\\n\".join([x for x in sections_content if x not in [\"\"]])\n",
    "\n",
    "    return {section_name: sections_data}\n",
    "\n",
    "def extract_info(sp: BeautifulSoup):\n",
    "    cnts = sp.find_all(\"h2\", {\"class\": \"ddc-anchor-offset\"})\n",
    "    sections = list(map(lambda x: contents_till_next_section(x), cnts))\n",
    "\n",
    "    total_data = {}\n",
    "    for section in sections:\n",
    "        total_data = total_data | section\n",
    "\n",
    "    return total_data\n",
    "\n",
    "# contnt = requests.get(\n",
    "#     # \"https://www.drugs.com/ibuprofen.html\"\n",
    "#     \"https://www.drugs.com/mounjaro.html\"\n",
    "# ).content\n",
    "\n",
    "# sp = BeautifulSoup(contnt)\n",
    "\n",
    "# sp.prettify()\n",
    "\n",
    "# extract_info(sp)\n",
    "\n",
    "def control_from_search(search: str):\n",
    "    data = get_soup_items_from_search(search_query=search)\n",
    "    print(data)\n",
    "    most_relevant_link = data[0][1]\n",
    "    link_data = BeautifulSoup(requests.get(most_relevant_link).content)\n",
    "\n",
    "    return extract_info(link_data)\n",
    "\n",
    "control_from_search(\"Diclofenac\").keys()"
   ]
  },
  {
   "cell_type": "code",
   "execution_count": 24,
   "metadata": {},
   "outputs": [
    {
     "ename": "SyntaxError",
     "evalue": "incomplete input (4140639633.py, line 15)",
     "output_type": "error",
     "traceback": [
      "\u001b[0;36m  Input \u001b[0;32mIn [24]\u001b[0;36m\u001b[0m\n\u001b[0;31m    \u001b[0m\n\u001b[0m    ^\u001b[0m\n\u001b[0;31mSyntaxError\u001b[0m\u001b[0;31m:\u001b[0m incomplete input\n"
     ]
    }
   ],
   "source": [
    "from typing import List, Dict\n",
    "import aiohttp\n",
    "\n",
    "async def send_async_request(url, session):\n",
    "    async with session.get(url) as response:\n",
    "        resp = await response.read()\n",
    "        soup_a = BeautifulSoup(resp.decode(\"utf-8\"), features=\"lxml\")\n",
    "\n",
    "        soup_a.find_all\n",
    "\n",
    "async def scrape_articles(links: List[str], loop):\n",
    "    results: List[Dict[str, Any]] = []\n",
    "\n",
    "    async with aiohttp.ClientSession(conn_timeout=5.0, loop=loop) as session:\n",
    "        \n"
   ]
  },
  {
   "cell_type": "code",
   "execution_count": null,
   "metadata": {},
   "outputs": [],
   "source": [
    "import requests\n",
    "from bs4 import BeautifulSoup"
   ]
  }
 ],
 "metadata": {
  "kernelspec": {
   "display_name": "Python 3",
   "language": "python",
   "name": "python3"
  },
  "language_info": {
   "codemirror_mode": {
    "name": "ipython",
    "version": 3
   },
   "file_extension": ".py",
   "mimetype": "text/x-python",
   "name": "python",
   "nbconvert_exporter": "python",
   "pygments_lexer": "ipython3",
   "version": "3.10.6"
  },
  "orig_nbformat": 4
 },
 "nbformat": 4,
 "nbformat_minor": 2
}
